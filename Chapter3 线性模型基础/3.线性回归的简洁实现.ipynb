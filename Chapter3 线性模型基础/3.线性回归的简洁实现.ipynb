{
 "cells": [
  {
   "cell_type": "markdown",
   "metadata": {},
   "source": [
    "## 线性回归的简洁实现\n"
   ]
  },
  {
   "cell_type": "code",
   "execution_count": 51,
   "metadata": {},
   "outputs": [],
   "source": [
    "# 生成数据集\n",
    "import numpy as np\n",
    "import torch\n",
    "from torch.utils import data\n",
    "from d2l import torch as d2l\n",
    "\n",
    "true_w = torch.tensor([2,-3.4])\n",
    "true_b = 4.2\n",
    "features, labels = d2l.synthetic_data(true_w,true_b,1000)"
   ]
  },
  {
   "cell_type": "code",
   "execution_count": 53,
   "metadata": {},
   "outputs": [
    {
     "data": {
      "text/plain": [
       "[tensor([[ 1.7611, -0.6582],\n",
       "         [-0.9455, -1.3601],\n",
       "         [-0.3643,  0.5090],\n",
       "         [ 0.7871,  0.3845],\n",
       "         [-0.5381, -0.7811],\n",
       "         [-0.2112,  1.2149],\n",
       "         [-0.6299, -1.3576],\n",
       "         [ 0.5344, -2.6071],\n",
       "         [-0.1532,  1.4734],\n",
       "         [ 1.5329, -0.2842]]), tensor([[ 9.9494],\n",
       "         [ 6.9299],\n",
       "         [ 1.7285],\n",
       "         [ 4.4530],\n",
       "         [ 5.7749],\n",
       "         [-0.3708],\n",
       "         [ 7.5420],\n",
       "         [14.1243],\n",
       "         [-1.1141],\n",
       "         [ 8.2188]])]"
      ]
     },
     "execution_count": 53,
     "metadata": {},
     "output_type": "execute_result"
    }
   ],
   "source": [
    "def load_array(data_arrays,batch_size,is_train=True):\n",
    "    # 构造一个PyTorch数据迭代器\n",
    "    dataset = data.TensorDataset(*data_arrays)\n",
    "    #shuffle表示是否需要随机打乱顺序\n",
    "    return data.DataLoader(dataset,batch_size,shuffle=is_train)\n",
    "\n",
    "batch_size=10\n",
    "data_iter = load_array((features, labels), batch_size)\n",
    "\n",
    "next(iter(data_iter))"
   ]
  },
  {
   "cell_type": "code",
   "execution_count": 55,
   "metadata": {},
   "outputs": [],
   "source": [
    "# 定义模型\n",
    "# nn是神经网络的缩写\n",
    "from torch import nn\n",
    "# Sequential类将多个层串联在一起。 当给定输入数据时，Sequential实例将数据传入到第一层， 然后将第一层的输出作为第二层的输入\n",
    "# 输入维度是2.输出维度是1\n",
    "net = nn.Sequential(nn.Linear(2,1))"
   ]
  },
  {
   "cell_type": "code",
   "execution_count": 56,
   "metadata": {},
   "outputs": [
    {
     "data": {
      "text/plain": [
       "tensor([0.])"
      ]
     },
     "execution_count": 56,
     "metadata": {},
     "output_type": "execute_result"
    }
   ],
   "source": [
    "# 初始化模型参数\n",
    "net[0].weight.data.normal_(0, 0.01)\n",
    "net[0].bias.data.fill_(0)"
   ]
  },
  {
   "cell_type": "code",
   "execution_count": 57,
   "metadata": {},
   "outputs": [],
   "source": [
    "# 定义损失函数,计算均方误差使用的是MSELoss类，也称为平方 L2 范数。 默认情况下，它返回所有样本损失的平均值。\n",
    "loss = nn.MSELoss()"
   ]
  },
  {
   "cell_type": "code",
   "execution_count": 58,
   "metadata": {},
   "outputs": [],
   "source": [
    "# 定义优化算法,net.parameters()包含所有的输入参数，lr是学习率\n",
    "trainer = torch.optim.SGD(net.parameters(),lr=0.03)"
   ]
  },
  {
   "cell_type": "code",
   "execution_count": 59,
   "metadata": {},
   "outputs": [
    {
     "name": "stdout",
     "output_type": "stream",
     "text": [
      "epoch1,loss1.000000\n",
      "epoch2,loss1.000000\n",
      "epoch3,loss1.000000\n"
     ]
    }
   ],
   "source": [
    "# 训练\n",
    "num_epochs = 3\n",
    "for epoch in range(num_epochs):\n",
    "    for X,y in data_iter:\n",
    "        # 将X拿到模型中计算然后将结果与y比较计算损失值\n",
    "        l = loss(net(X),y)\n",
    "        # 梯度清零\n",
    "        trainer.zero_grad()\n",
    "        l.backward()\n",
    "        # 模型更新\n",
    "        trainer.step()\n",
    "        \n",
    "    l=loss(net(features),labels)\n",
    "    print(f'epoch{epoch+1},loss{1:f}')"
   ]
  },
  {
   "cell_type": "code",
   "execution_count": 60,
   "metadata": {},
   "outputs": [
    {
     "name": "stdout",
     "output_type": "stream",
     "text": [
      "w的估计误差： tensor([-0.0005,  0.0004])\n",
      "b的估计误差： tensor([-7.7724e-05])\n"
     ]
    }
   ],
   "source": [
    "w = net[0].weight.data\n",
    "print('w的估计误差：', true_w - w.reshape(true_w.shape))\n",
    "b = net[0].bias.data\n",
    "print('b的估计误差：', true_b - b)"
   ]
  }
 ],
 "metadata": {
  "kernelspec": {
   "display_name": "Python 3",
   "language": "python",
   "name": "python3"
  },
  "language_info": {
   "codemirror_mode": {
    "name": "ipython",
    "version": 3
   },
   "file_extension": ".py",
   "mimetype": "text/x-python",
   "name": "python",
   "nbconvert_exporter": "python",
   "pygments_lexer": "ipython3",
   "version": "3.8.5"
  }
 },
 "nbformat": 4,
 "nbformat_minor": 5
}
